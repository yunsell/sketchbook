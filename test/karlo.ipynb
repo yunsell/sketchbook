{
 "cells": [
  {
   "cell_type": "code",
   "execution_count": 17,
   "outputs": [],
   "source": [
    "# REST API 호출, 이미지 파일 처리에 필요한 라이브러리\n",
    "import requests\n",
    "import json\n",
    "import urllib\n",
    "from PIL import Image\n",
    "\n",
    "# [내 애플리케이션] > [앱 키] 에서 확인한 REST API 키 값 입력\n",
    "REST_API_KEY = 'b714f19047d1ba1f100ead851b9a00ac'\n",
    "\n",
    "# 이미지 생성하기 요청\n",
    "def t2i(prompt, negative_prompt):\n",
    "    r = requests.post(\n",
    "        'https://api.kakaobrain.com/v2/inference/karlo/t2i',\n",
    "        json = {\n",
    "            'prompt': prompt,\n",
    "            'negative_prompt': negative_prompt\n",
    "        },\n",
    "        headers = {\n",
    "            'Authorization': f'KakaoAK {REST_API_KEY}',\n",
    "            'Content-Type': 'application/json'\n",
    "        }\n",
    "    )\n",
    "    # 응답 JSON 형식으로 변환\n",
    "    response = json.loads(r.content)\n",
    "    return response\n",
    "\n",
    "prompt_style = \"children's animate style, fairy tales style, no text, \"\n",
    "\n",
    "# 프롬프트에 사용할 제시어\n",
    "prompt = \"\"\"pirate, Tinkerbell, special, young, treasure, journey, overcome, hidden, final destination\"\"\"\n",
    "negative_prompt = \"\"\n",
    "\n",
    "# 이미지 생성하기 REST API 호출\n",
    "response = t2i(prompt_style + prompt, negative_prompt)\n",
    "\n",
    "# 응답의 첫 번째 이미지 생성 결과 출력하기\n",
    "result = Image.open(urllib.request.urlopen(response.get(\"images\")[0].get(\"image\")))\n",
    "result.show()"
   ],
   "metadata": {
    "collapsed": false,
    "ExecuteTime": {
     "end_time": "2023-08-29T23:24:22.899633700Z",
     "start_time": "2023-08-29T23:24:17.270744100Z"
    }
   }
  }
 ],
 "metadata": {
  "kernelspec": {
   "display_name": "Python 3",
   "language": "python",
   "name": "python3"
  },
  "language_info": {
   "codemirror_mode": {
    "name": "ipython",
    "version": 2
   },
   "file_extension": ".py",
   "mimetype": "text/x-python",
   "name": "python",
   "nbconvert_exporter": "python",
   "pygments_lexer": "ipython2",
   "version": "2.7.6"
  }
 },
 "nbformat": 4,
 "nbformat_minor": 0
}
