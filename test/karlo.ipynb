{
 "cells": [
  {
   "cell_type": "code",
   "execution_count": 1,
   "outputs": [
    {
     "ename": "TypeError",
     "evalue": "'NoneType' object is not subscriptable",
     "output_type": "error",
     "traceback": [
      "\u001B[1;31m---------------------------------------------------------------------------\u001B[0m",
      "\u001B[1;31mTypeError\u001B[0m                                 Traceback (most recent call last)",
      "Cell \u001B[1;32mIn[1], line 37\u001B[0m\n\u001B[0;32m     34\u001B[0m response \u001B[38;5;241m=\u001B[39m t2i(prompt_style \u001B[38;5;241m+\u001B[39m prompt, negative_prompt)\n\u001B[0;32m     36\u001B[0m \u001B[38;5;66;03m# 응답의 첫 번째 이미지 생성 결과 출력하기\u001B[39;00m\n\u001B[1;32m---> 37\u001B[0m result \u001B[38;5;241m=\u001B[39m Image\u001B[38;5;241m.\u001B[39mopen(urllib\u001B[38;5;241m.\u001B[39mrequest\u001B[38;5;241m.\u001B[39murlopen(\u001B[43mresponse\u001B[49m\u001B[38;5;241;43m.\u001B[39;49m\u001B[43mget\u001B[49m\u001B[43m(\u001B[49m\u001B[38;5;124;43m\"\u001B[39;49m\u001B[38;5;124;43mimages\u001B[39;49m\u001B[38;5;124;43m\"\u001B[39;49m\u001B[43m)\u001B[49m\u001B[43m[\u001B[49m\u001B[38;5;241;43m0\u001B[39;49m\u001B[43m]\u001B[49m\u001B[38;5;241m.\u001B[39mget(\u001B[38;5;124m\"\u001B[39m\u001B[38;5;124mimage\u001B[39m\u001B[38;5;124m\"\u001B[39m)))\n\u001B[0;32m     38\u001B[0m result\u001B[38;5;241m.\u001B[39mshow()\n",
      "\u001B[1;31mTypeError\u001B[0m: 'NoneType' object is not subscriptable"
     ]
    }
   ],
   "source": [
    "# REST API 호출, 이미지 파일 처리에 필요한 라이브러리\n",
    "import requests\n",
    "import json\n",
    "import urllib\n",
    "from PIL import Image\n",
    "\n",
    "# [내 애플리케이션] > [앱 키] 에서 확인한 REST API 키 값 입력\n",
    "# Kakao Karlo API Key 입력\n",
    "REST_API_KEY = 'REST_API_KEY'\n",
    "\n",
    "# 이미지 생성하기 요청\n",
    "def t2i(prompt, negative_prompt):\n",
    "    r = requests.post(\n",
    "        'https://api.kakaobrain.com/v2/inference/karlo/t2i',\n",
    "        json = {\n",
    "            'prompt': prompt,\n",
    "            'negative_prompt': negative_prompt\n",
    "        },\n",
    "        headers = {\n",
    "            'Authorization': f'KakaoAK {REST_API_KEY}',\n",
    "            'Content-Type': 'application/json'\n",
    "        }\n",
    "    )\n",
    "    # 응답 JSON 형식으로 변환\n",
    "    response = json.loads(r.content)\n",
    "    return response\n",
    "\n",
    "prompt_style = \"children's animate style, fairy tales style, no text, \"\n",
    "\n",
    "# 프롬프트에 사용할 제시어\n",
    "prompt = \"\"\"pirate, Tinkerbell, special, young, treasure, journey, overcome, hidden, final destination\"\"\"\n",
    "negative_prompt = \"\"\n",
    "\n",
    "# 이미지 생성하기 REST API 호출\n",
    "response = t2i(prompt_style + prompt, negative_prompt)\n",
    "\n",
    "# 응답의 첫 번째 이미지 생성 결과 출력하기\n",
    "result = Image.open(urllib.request.urlopen(response.get(\"images\")[0].get(\"image\")))\n",
    "result.show()"
   ],
   "metadata": {
    "collapsed": false,
    "ExecuteTime": {
     "end_time": "2023-09-06T00:01:35.902399100Z",
     "start_time": "2023-09-06T00:01:35.255867400Z"
    }
   }
  }
 ],
 "metadata": {
  "kernelspec": {
   "display_name": "Python 3",
   "language": "python",
   "name": "python3"
  },
  "language_info": {
   "codemirror_mode": {
    "name": "ipython",
    "version": 2
   },
   "file_extension": ".py",
   "mimetype": "text/x-python",
   "name": "python",
   "nbconvert_exporter": "python",
   "pygments_lexer": "ipython2",
   "version": "2.7.6"
  }
 },
 "nbformat": 4,
 "nbformat_minor": 0
}
